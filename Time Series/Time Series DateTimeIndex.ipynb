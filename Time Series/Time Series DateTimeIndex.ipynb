{
 "cells": [
  {
   "cell_type": "markdown",
   "metadata": {},
   "source": [
    "### Pandas Time Series  DateTimeIndex"
   ]
  },
  {
   "cell_type": "code",
   "execution_count": 1,
   "metadata": {},
   "outputs": [
    {
     "data": {
      "text/html": [
       "<div>\n",
       "<style scoped>\n",
       "    .dataframe tbody tr th:only-of-type {\n",
       "        vertical-align: middle;\n",
       "    }\n",
       "\n",
       "    .dataframe tbody tr th {\n",
       "        vertical-align: top;\n",
       "    }\n",
       "\n",
       "    .dataframe thead th {\n",
       "        text-align: right;\n",
       "    }\n",
       "</style>\n",
       "<table border=\"1\" class=\"dataframe\">\n",
       "  <thead>\n",
       "    <tr style=\"text-align: right;\">\n",
       "      <th></th>\n",
       "      <th>Open</th>\n",
       "      <th>High</th>\n",
       "      <th>Low</th>\n",
       "      <th>Close</th>\n",
       "      <th>Adj Close</th>\n",
       "      <th>Volume</th>\n",
       "    </tr>\n",
       "    <tr>\n",
       "      <th>Date</th>\n",
       "      <th></th>\n",
       "      <th></th>\n",
       "      <th></th>\n",
       "      <th></th>\n",
       "      <th></th>\n",
       "      <th></th>\n",
       "    </tr>\n",
       "  </thead>\n",
       "  <tbody>\n",
       "    <tr>\n",
       "      <td>2014-09-29</td>\n",
       "      <td>100.589996</td>\n",
       "      <td>100.690002</td>\n",
       "      <td>98.040001</td>\n",
       "      <td>99.620003</td>\n",
       "      <td>93.514290</td>\n",
       "      <td>142718700</td>\n",
       "    </tr>\n",
       "    <tr>\n",
       "      <td>2014-10-06</td>\n",
       "      <td>99.949997</td>\n",
       "      <td>102.379997</td>\n",
       "      <td>98.309998</td>\n",
       "      <td>100.730003</td>\n",
       "      <td>94.556244</td>\n",
       "      <td>280258200</td>\n",
       "    </tr>\n",
       "  </tbody>\n",
       "</table>\n",
       "</div>"
      ],
      "text/plain": [
       "                  Open        High        Low       Close  Adj Close  \\\n",
       "Date                                                                   \n",
       "2014-09-29  100.589996  100.690002  98.040001   99.620003  93.514290   \n",
       "2014-10-06   99.949997  102.379997  98.309998  100.730003  94.556244   \n",
       "\n",
       "               Volume  \n",
       "Date                   \n",
       "2014-09-29  142718700  \n",
       "2014-10-06  280258200  "
      ]
     },
     "execution_count": 1,
     "metadata": {},
     "output_type": "execute_result"
    }
   ],
   "source": [
    "import pandas as pd\n",
    "df = pd.read_csv(\"aapl.csv\",parse_dates=[\"Date\"], index_col=\"Date\")\n",
    "df.head(2)"
   ]
  },
  {
   "cell_type": "code",
   "execution_count": 2,
   "metadata": {},
   "outputs": [
    {
     "data": {
      "text/plain": [
       "DatetimeIndex(['2014-09-29', '2014-10-06', '2014-10-13', '2014-10-20',\n",
       "               '2014-10-27', '2014-11-03', '2014-11-10', '2014-11-17',\n",
       "               '2014-11-24', '2014-12-01',\n",
       "               ...\n",
       "               '2018-01-29', '2018-02-05', '2018-02-12', '2018-02-19',\n",
       "               '2018-02-26', '2018-03-05', '2018-03-12', '2018-03-19',\n",
       "               '2018-03-26', '2018-03-29'],\n",
       "              dtype='datetime64[ns]', name='Date', length=184, freq=None)"
      ]
     },
     "execution_count": 2,
     "metadata": {},
     "output_type": "execute_result"
    }
   ],
   "source": [
    "df.index"
   ]
  },
  {
   "cell_type": "markdown",
   "metadata": {},
   "source": [
    "### (1) Partial Date Index: Select Specific Months Data"
   ]
  },
  {
   "cell_type": "code",
   "execution_count": 3,
   "metadata": {},
   "outputs": [
    {
     "data": {
      "text/html": [
       "<div>\n",
       "<style scoped>\n",
       "    .dataframe tbody tr th:only-of-type {\n",
       "        vertical-align: middle;\n",
       "    }\n",
       "\n",
       "    .dataframe tbody tr th {\n",
       "        vertical-align: top;\n",
       "    }\n",
       "\n",
       "    .dataframe thead th {\n",
       "        text-align: right;\n",
       "    }\n",
       "</style>\n",
       "<table border=\"1\" class=\"dataframe\">\n",
       "  <thead>\n",
       "    <tr style=\"text-align: right;\">\n",
       "      <th></th>\n",
       "      <th>Open</th>\n",
       "      <th>High</th>\n",
       "      <th>Low</th>\n",
       "      <th>Close</th>\n",
       "      <th>Adj Close</th>\n",
       "      <th>Volume</th>\n",
       "    </tr>\n",
       "    <tr>\n",
       "      <th>Date</th>\n",
       "      <th></th>\n",
       "      <th></th>\n",
       "      <th></th>\n",
       "      <th></th>\n",
       "      <th></th>\n",
       "      <th></th>\n",
       "    </tr>\n",
       "  </thead>\n",
       "  <tbody>\n",
       "    <tr>\n",
       "      <td>2017-06-05</td>\n",
       "      <td>154.339996</td>\n",
       "      <td>155.979996</td>\n",
       "      <td>146.020004</td>\n",
       "      <td>148.979996</td>\n",
       "      <td>147.265274</td>\n",
       "      <td>159159700</td>\n",
       "    </tr>\n",
       "    <tr>\n",
       "      <td>2017-06-12</td>\n",
       "      <td>145.740005</td>\n",
       "      <td>147.500000</td>\n",
       "      <td>142.199997</td>\n",
       "      <td>142.270004</td>\n",
       "      <td>140.632507</td>\n",
       "      <td>220530400</td>\n",
       "    </tr>\n",
       "    <tr>\n",
       "      <td>2017-06-19</td>\n",
       "      <td>143.660004</td>\n",
       "      <td>147.160004</td>\n",
       "      <td>143.660004</td>\n",
       "      <td>146.279999</td>\n",
       "      <td>144.596344</td>\n",
       "      <td>133253000</td>\n",
       "    </tr>\n",
       "    <tr>\n",
       "      <td>2017-06-26</td>\n",
       "      <td>147.169998</td>\n",
       "      <td>148.279999</td>\n",
       "      <td>142.279999</td>\n",
       "      <td>144.020004</td>\n",
       "      <td>142.362366</td>\n",
       "      <td>127060200</td>\n",
       "    </tr>\n",
       "  </tbody>\n",
       "</table>\n",
       "</div>"
      ],
      "text/plain": [
       "                  Open        High         Low       Close   Adj Close  \\\n",
       "Date                                                                     \n",
       "2017-06-05  154.339996  155.979996  146.020004  148.979996  147.265274   \n",
       "2017-06-12  145.740005  147.500000  142.199997  142.270004  140.632507   \n",
       "2017-06-19  143.660004  147.160004  143.660004  146.279999  144.596344   \n",
       "2017-06-26  147.169998  148.279999  142.279999  144.020004  142.362366   \n",
       "\n",
       "               Volume  \n",
       "Date                   \n",
       "2017-06-05  159159700  \n",
       "2017-06-12  220530400  \n",
       "2017-06-19  133253000  \n",
       "2017-06-26  127060200  "
      ]
     },
     "execution_count": 3,
     "metadata": {},
     "output_type": "execute_result"
    }
   ],
   "source": [
    "df['2017-06'].head()"
   ]
  },
  {
   "cell_type": "code",
   "execution_count": 4,
   "metadata": {},
   "outputs": [
    {
     "data": {
      "text/plain": [
       "145.38750075"
      ]
     },
     "execution_count": 4,
     "metadata": {},
     "output_type": "execute_result"
    }
   ],
   "source": [
    "#### Average price of aapl's stock in June, 2017\n",
    "df['2017-06'].Close.mean()"
   ]
  },
  {
   "cell_type": "code",
   "execution_count": 5,
   "metadata": {},
   "outputs": [
    {
     "data": {
      "text/html": [
       "<div>\n",
       "<style scoped>\n",
       "    .dataframe tbody tr th:only-of-type {\n",
       "        vertical-align: middle;\n",
       "    }\n",
       "\n",
       "    .dataframe tbody tr th {\n",
       "        vertical-align: top;\n",
       "    }\n",
       "\n",
       "    .dataframe thead th {\n",
       "        text-align: right;\n",
       "    }\n",
       "</style>\n",
       "<table border=\"1\" class=\"dataframe\">\n",
       "  <thead>\n",
       "    <tr style=\"text-align: right;\">\n",
       "      <th></th>\n",
       "      <th>Open</th>\n",
       "      <th>High</th>\n",
       "      <th>Low</th>\n",
       "      <th>Close</th>\n",
       "      <th>Adj Close</th>\n",
       "      <th>Volume</th>\n",
       "    </tr>\n",
       "    <tr>\n",
       "      <th>Date</th>\n",
       "      <th></th>\n",
       "      <th></th>\n",
       "      <th></th>\n",
       "      <th></th>\n",
       "      <th></th>\n",
       "      <th></th>\n",
       "    </tr>\n",
       "  </thead>\n",
       "  <tbody>\n",
       "    <tr>\n",
       "      <td>2017-01-02</td>\n",
       "      <td>115.800003</td>\n",
       "      <td>118.160004</td>\n",
       "      <td>114.760002</td>\n",
       "      <td>117.910004</td>\n",
       "      <td>115.572708</td>\n",
       "      <td>103845500</td>\n",
       "    </tr>\n",
       "    <tr>\n",
       "      <td>2017-01-09</td>\n",
       "      <td>117.949997</td>\n",
       "      <td>119.930000</td>\n",
       "      <td>117.940002</td>\n",
       "      <td>119.040001</td>\n",
       "      <td>116.680298</td>\n",
       "      <td>138810700</td>\n",
       "    </tr>\n",
       "  </tbody>\n",
       "</table>\n",
       "</div>"
      ],
      "text/plain": [
       "                  Open        High         Low       Close   Adj Close  \\\n",
       "Date                                                                     \n",
       "2017-01-02  115.800003  118.160004  114.760002  117.910004  115.572708   \n",
       "2017-01-09  117.949997  119.930000  117.940002  119.040001  116.680298   \n",
       "\n",
       "               Volume  \n",
       "Date                   \n",
       "2017-01-02  103845500  \n",
       "2017-01-09  138810700  "
      ]
     },
     "execution_count": 5,
     "metadata": {},
     "output_type": "execute_result"
    }
   ],
   "source": [
    "df['2017'].head(2)"
   ]
  },
  {
   "cell_type": "code",
   "execution_count": 10,
   "metadata": {},
   "outputs": [
    {
     "data": {
      "text/html": [
       "<div>\n",
       "<style scoped>\n",
       "    .dataframe tbody tr th:only-of-type {\n",
       "        vertical-align: middle;\n",
       "    }\n",
       "\n",
       "    .dataframe tbody tr th {\n",
       "        vertical-align: top;\n",
       "    }\n",
       "\n",
       "    .dataframe thead th {\n",
       "        text-align: right;\n",
       "    }\n",
       "</style>\n",
       "<table border=\"1\" class=\"dataframe\">\n",
       "  <thead>\n",
       "    <tr style=\"text-align: right;\">\n",
       "      <th></th>\n",
       "      <th>Open</th>\n",
       "      <th>High</th>\n",
       "      <th>Low</th>\n",
       "      <th>Close</th>\n",
       "      <th>Adj Close</th>\n",
       "      <th>Volume</th>\n",
       "    </tr>\n",
       "    <tr>\n",
       "      <th>Date</th>\n",
       "      <th></th>\n",
       "      <th></th>\n",
       "      <th></th>\n",
       "      <th></th>\n",
       "      <th></th>\n",
       "      <th></th>\n",
       "    </tr>\n",
       "  </thead>\n",
       "  <tbody>\n",
       "    <tr>\n",
       "      <td>2017-01-02</td>\n",
       "      <td>115.800003</td>\n",
       "      <td>118.160004</td>\n",
       "      <td>114.760002</td>\n",
       "      <td>117.910004</td>\n",
       "      <td>115.572708</td>\n",
       "      <td>103845500</td>\n",
       "    </tr>\n",
       "    <tr>\n",
       "      <td>2017-01-09</td>\n",
       "      <td>117.949997</td>\n",
       "      <td>119.930000</td>\n",
       "      <td>117.940002</td>\n",
       "      <td>119.040001</td>\n",
       "      <td>116.680298</td>\n",
       "      <td>138810700</td>\n",
       "    </tr>\n",
       "    <tr>\n",
       "      <td>2017-01-16</td>\n",
       "      <td>118.339996</td>\n",
       "      <td>120.500000</td>\n",
       "      <td>118.220001</td>\n",
       "      <td>120.000000</td>\n",
       "      <td>117.621269</td>\n",
       "      <td>116348000</td>\n",
       "    </tr>\n",
       "    <tr>\n",
       "      <td>2017-01-23</td>\n",
       "      <td>120.000000</td>\n",
       "      <td>122.440002</td>\n",
       "      <td>119.500000</td>\n",
       "      <td>121.949997</td>\n",
       "      <td>119.532608</td>\n",
       "      <td>124539300</td>\n",
       "    </tr>\n",
       "    <tr>\n",
       "      <td>2017-01-30</td>\n",
       "      <td>120.930000</td>\n",
       "      <td>130.490005</td>\n",
       "      <td>120.620003</td>\n",
       "      <td>129.080002</td>\n",
       "      <td>126.521278</td>\n",
       "      <td>249781200</td>\n",
       "    </tr>\n",
       "  </tbody>\n",
       "</table>\n",
       "</div>"
      ],
      "text/plain": [
       "                  Open        High         Low       Close   Adj Close  \\\n",
       "Date                                                                     \n",
       "2017-01-02  115.800003  118.160004  114.760002  117.910004  115.572708   \n",
       "2017-01-09  117.949997  119.930000  117.940002  119.040001  116.680298   \n",
       "2017-01-16  118.339996  120.500000  118.220001  120.000000  117.621269   \n",
       "2017-01-23  120.000000  122.440002  119.500000  121.949997  119.532608   \n",
       "2017-01-30  120.930000  130.490005  120.620003  129.080002  126.521278   \n",
       "\n",
       "               Volume  \n",
       "Date                   \n",
       "2017-01-02  103845500  \n",
       "2017-01-09  138810700  \n",
       "2017-01-16  116348000  \n",
       "2017-01-23  124539300  \n",
       "2017-01-30  249781200  "
      ]
     },
     "execution_count": 10,
     "metadata": {},
     "output_type": "execute_result"
    }
   ],
   "source": [
    "df['2017-01']"
   ]
  },
  {
   "cell_type": "markdown",
   "metadata": {},
   "source": [
    "#### (2) Select Date Range"
   ]
  },
  {
   "cell_type": "code",
   "execution_count": 6,
   "metadata": {},
   "outputs": [
    {
     "data": {
      "text/plain": [
       "Open         0\n",
       "High         0\n",
       "Low          0\n",
       "Close        0\n",
       "Adj Close    0\n",
       "Volume       0\n",
       "dtype: int64"
      ]
     },
     "execution_count": 6,
     "metadata": {},
     "output_type": "execute_result"
    }
   ],
   "source": [
    "df['2014-01-08':'2014-01-03'].count()"
   ]
  },
  {
   "cell_type": "code",
   "execution_count": 9,
   "metadata": {},
   "outputs": [
    {
     "data": {
      "text/html": [
       "<div>\n",
       "<style scoped>\n",
       "    .dataframe tbody tr th:only-of-type {\n",
       "        vertical-align: middle;\n",
       "    }\n",
       "\n",
       "    .dataframe tbody tr th {\n",
       "        vertical-align: top;\n",
       "    }\n",
       "\n",
       "    .dataframe thead th {\n",
       "        text-align: right;\n",
       "    }\n",
       "</style>\n",
       "<table border=\"1\" class=\"dataframe\">\n",
       "  <thead>\n",
       "    <tr style=\"text-align: right;\">\n",
       "      <th></th>\n",
       "      <th>Open</th>\n",
       "      <th>High</th>\n",
       "      <th>Low</th>\n",
       "      <th>Close</th>\n",
       "      <th>Adj Close</th>\n",
       "      <th>Volume</th>\n",
       "    </tr>\n",
       "    <tr>\n",
       "      <th>Date</th>\n",
       "      <th></th>\n",
       "      <th></th>\n",
       "      <th></th>\n",
       "      <th></th>\n",
       "      <th></th>\n",
       "      <th></th>\n",
       "    </tr>\n",
       "  </thead>\n",
       "  <tbody>\n",
       "    <tr>\n",
       "      <td>2014-09-29</td>\n",
       "      <td>100.589996</td>\n",
       "      <td>100.690002</td>\n",
       "      <td>98.040001</td>\n",
       "      <td>99.620003</td>\n",
       "      <td>93.514290</td>\n",
       "      <td>142718700</td>\n",
       "    </tr>\n",
       "    <tr>\n",
       "      <td>2014-10-06</td>\n",
       "      <td>99.949997</td>\n",
       "      <td>102.379997</td>\n",
       "      <td>98.309998</td>\n",
       "      <td>100.730003</td>\n",
       "      <td>94.556244</td>\n",
       "      <td>280258200</td>\n",
       "    </tr>\n",
       "  </tbody>\n",
       "</table>\n",
       "</div>"
      ],
      "text/plain": [
       "                  Open        High        Low       Close  Adj Close  \\\n",
       "Date                                                                   \n",
       "2014-09-29  100.589996  100.690002  98.040001   99.620003  93.514290   \n",
       "2014-10-06   99.949997  102.379997  98.309998  100.730003  94.556244   \n",
       "\n",
       "               Volume  \n",
       "Date                   \n",
       "2014-09-29  142718700  \n",
       "2014-10-06  280258200  "
      ]
     },
     "execution_count": 9,
     "metadata": {},
     "output_type": "execute_result"
    }
   ],
   "source": [
    "df['2014-09-29':'2014-10-06']"
   ]
  },
  {
   "cell_type": "code",
   "execution_count": 11,
   "metadata": {},
   "outputs": [
    {
     "data": {
      "text/html": [
       "<div>\n",
       "<style scoped>\n",
       "    .dataframe tbody tr th:only-of-type {\n",
       "        vertical-align: middle;\n",
       "    }\n",
       "\n",
       "    .dataframe tbody tr th {\n",
       "        vertical-align: top;\n",
       "    }\n",
       "\n",
       "    .dataframe thead th {\n",
       "        text-align: right;\n",
       "    }\n",
       "</style>\n",
       "<table border=\"1\" class=\"dataframe\">\n",
       "  <thead>\n",
       "    <tr style=\"text-align: right;\">\n",
       "      <th></th>\n",
       "      <th>Open</th>\n",
       "      <th>High</th>\n",
       "      <th>Low</th>\n",
       "      <th>Close</th>\n",
       "      <th>Adj Close</th>\n",
       "      <th>Volume</th>\n",
       "    </tr>\n",
       "    <tr>\n",
       "      <th>Date</th>\n",
       "      <th></th>\n",
       "      <th></th>\n",
       "      <th></th>\n",
       "      <th></th>\n",
       "      <th></th>\n",
       "      <th></th>\n",
       "    </tr>\n",
       "  </thead>\n",
       "  <tbody>\n",
       "    <tr>\n",
       "      <td>2014-09-29</td>\n",
       "      <td>100.589996</td>\n",
       "      <td>100.690002</td>\n",
       "      <td>98.040001</td>\n",
       "      <td>99.620003</td>\n",
       "      <td>93.514290</td>\n",
       "      <td>142718700</td>\n",
       "    </tr>\n",
       "    <tr>\n",
       "      <td>2014-10-06</td>\n",
       "      <td>99.949997</td>\n",
       "      <td>102.379997</td>\n",
       "      <td>98.309998</td>\n",
       "      <td>100.730003</td>\n",
       "      <td>94.556244</td>\n",
       "      <td>280258200</td>\n",
       "    </tr>\n",
       "    <tr>\n",
       "      <td>2014-10-13</td>\n",
       "      <td>101.330002</td>\n",
       "      <td>101.779999</td>\n",
       "      <td>95.180000</td>\n",
       "      <td>97.669998</td>\n",
       "      <td>91.683792</td>\n",
       "      <td>358539800</td>\n",
       "    </tr>\n",
       "    <tr>\n",
       "      <td>2014-10-20</td>\n",
       "      <td>98.320000</td>\n",
       "      <td>105.489998</td>\n",
       "      <td>98.220001</td>\n",
       "      <td>105.220001</td>\n",
       "      <td>98.771042</td>\n",
       "      <td>358532900</td>\n",
       "    </tr>\n",
       "    <tr>\n",
       "      <td>2014-10-27</td>\n",
       "      <td>104.849998</td>\n",
       "      <td>108.040001</td>\n",
       "      <td>104.699997</td>\n",
       "      <td>108.000000</td>\n",
       "      <td>101.380676</td>\n",
       "      <td>220230600</td>\n",
       "    </tr>\n",
       "    <tr>\n",
       "      <td>2014-11-03</td>\n",
       "      <td>108.220001</td>\n",
       "      <td>110.300003</td>\n",
       "      <td>107.720001</td>\n",
       "      <td>109.010002</td>\n",
       "      <td>102.328766</td>\n",
       "      <td>199952900</td>\n",
       "    </tr>\n",
       "    <tr>\n",
       "      <td>2014-11-10</td>\n",
       "      <td>109.019997</td>\n",
       "      <td>114.190002</td>\n",
       "      <td>108.400002</td>\n",
       "      <td>114.180000</td>\n",
       "      <td>107.646675</td>\n",
       "      <td>205166700</td>\n",
       "    </tr>\n",
       "    <tr>\n",
       "      <td>2014-11-17</td>\n",
       "      <td>114.269997</td>\n",
       "      <td>117.570000</td>\n",
       "      <td>113.300003</td>\n",
       "      <td>116.470001</td>\n",
       "      <td>109.805626</td>\n",
       "      <td>233414700</td>\n",
       "    </tr>\n",
       "    <tr>\n",
       "      <td>2014-11-24</td>\n",
       "      <td>116.849998</td>\n",
       "      <td>119.750000</td>\n",
       "      <td>116.620003</td>\n",
       "      <td>118.930000</td>\n",
       "      <td>112.124863</td>\n",
       "      <td>181873900</td>\n",
       "    </tr>\n",
       "    <tr>\n",
       "      <td>2014-12-01</td>\n",
       "      <td>118.809998</td>\n",
       "      <td>119.250000</td>\n",
       "      <td>111.269997</td>\n",
       "      <td>115.000000</td>\n",
       "      <td>108.419746</td>\n",
       "      <td>266589700</td>\n",
       "    </tr>\n",
       "    <tr>\n",
       "      <td>2014-12-08</td>\n",
       "      <td>114.099998</td>\n",
       "      <td>114.849998</td>\n",
       "      <td>109.349998</td>\n",
       "      <td>109.730003</td>\n",
       "      <td>103.451294</td>\n",
       "      <td>259868000</td>\n",
       "    </tr>\n",
       "    <tr>\n",
       "      <td>2014-12-15</td>\n",
       "      <td>110.699997</td>\n",
       "      <td>113.239998</td>\n",
       "      <td>106.260002</td>\n",
       "      <td>111.779999</td>\n",
       "      <td>105.383980</td>\n",
       "      <td>328856600</td>\n",
       "    </tr>\n",
       "    <tr>\n",
       "      <td>2014-12-22</td>\n",
       "      <td>112.160004</td>\n",
       "      <td>114.519997</td>\n",
       "      <td>111.970001</td>\n",
       "      <td>113.989998</td>\n",
       "      <td>107.467529</td>\n",
       "      <td>119396500</td>\n",
       "    </tr>\n",
       "    <tr>\n",
       "      <td>2014-12-29</td>\n",
       "      <td>113.790001</td>\n",
       "      <td>114.769997</td>\n",
       "      <td>107.349998</td>\n",
       "      <td>109.330002</td>\n",
       "      <td>103.074181</td>\n",
       "      <td>152088400</td>\n",
       "    </tr>\n",
       "  </tbody>\n",
       "</table>\n",
       "</div>"
      ],
      "text/plain": [
       "                  Open        High         Low       Close   Adj Close  \\\n",
       "Date                                                                     \n",
       "2014-09-29  100.589996  100.690002   98.040001   99.620003   93.514290   \n",
       "2014-10-06   99.949997  102.379997   98.309998  100.730003   94.556244   \n",
       "2014-10-13  101.330002  101.779999   95.180000   97.669998   91.683792   \n",
       "2014-10-20   98.320000  105.489998   98.220001  105.220001   98.771042   \n",
       "2014-10-27  104.849998  108.040001  104.699997  108.000000  101.380676   \n",
       "2014-11-03  108.220001  110.300003  107.720001  109.010002  102.328766   \n",
       "2014-11-10  109.019997  114.190002  108.400002  114.180000  107.646675   \n",
       "2014-11-17  114.269997  117.570000  113.300003  116.470001  109.805626   \n",
       "2014-11-24  116.849998  119.750000  116.620003  118.930000  112.124863   \n",
       "2014-12-01  118.809998  119.250000  111.269997  115.000000  108.419746   \n",
       "2014-12-08  114.099998  114.849998  109.349998  109.730003  103.451294   \n",
       "2014-12-15  110.699997  113.239998  106.260002  111.779999  105.383980   \n",
       "2014-12-22  112.160004  114.519997  111.970001  113.989998  107.467529   \n",
       "2014-12-29  113.790001  114.769997  107.349998  109.330002  103.074181   \n",
       "\n",
       "               Volume  \n",
       "Date                   \n",
       "2014-09-29  142718700  \n",
       "2014-10-06  280258200  \n",
       "2014-10-13  358539800  \n",
       "2014-10-20  358532900  \n",
       "2014-10-27  220230600  \n",
       "2014-11-03  199952900  \n",
       "2014-11-10  205166700  \n",
       "2014-11-17  233414700  \n",
       "2014-11-24  181873900  \n",
       "2014-12-01  266589700  \n",
       "2014-12-08  259868000  \n",
       "2014-12-15  328856600  \n",
       "2014-12-22  119396500  \n",
       "2014-12-29  152088400  "
      ]
     },
     "execution_count": 11,
     "metadata": {},
     "output_type": "execute_result"
    }
   ],
   "source": [
    "df['2014']"
   ]
  },
  {
   "cell_type": "code",
   "execution_count": 12,
   "metadata": {},
   "outputs": [
    {
     "data": {
      "text/plain": [
       "Date\n",
       "2014-09-30     99.620003\n",
       "2014-10-31    102.905000\n",
       "2014-11-30    114.647501\n",
       "2014-12-31    111.966000\n",
       "2015-01-31    112.035002\n",
       "Freq: M, Name: Close, dtype: float64"
      ]
     },
     "execution_count": 12,
     "metadata": {},
     "output_type": "execute_result"
    }
   ],
   "source": [
    "df['Close'].resample('M').mean().head()"
   ]
  },
  {
   "cell_type": "code",
   "execution_count": 16,
   "metadata": {},
   "outputs": [
    {
     "data": {
      "text/html": [
       "<div>\n",
       "<style scoped>\n",
       "    .dataframe tbody tr th:only-of-type {\n",
       "        vertical-align: middle;\n",
       "    }\n",
       "\n",
       "    .dataframe tbody tr th {\n",
       "        vertical-align: top;\n",
       "    }\n",
       "\n",
       "    .dataframe thead th {\n",
       "        text-align: right;\n",
       "    }\n",
       "</style>\n",
       "<table border=\"1\" class=\"dataframe\">\n",
       "  <thead>\n",
       "    <tr style=\"text-align: right;\">\n",
       "      <th></th>\n",
       "      <th>Open</th>\n",
       "      <th>High</th>\n",
       "      <th>Low</th>\n",
       "      <th>Close</th>\n",
       "      <th>Adj Close</th>\n",
       "      <th>Volume</th>\n",
       "    </tr>\n",
       "    <tr>\n",
       "      <th>Date</th>\n",
       "      <th></th>\n",
       "      <th></th>\n",
       "      <th></th>\n",
       "      <th></th>\n",
       "      <th></th>\n",
       "      <th></th>\n",
       "    </tr>\n",
       "  </thead>\n",
       "  <tbody>\n",
       "    <tr>\n",
       "      <td>2014-12-01</td>\n",
       "      <td>118.809998</td>\n",
       "      <td>119.250000</td>\n",
       "      <td>111.269997</td>\n",
       "      <td>115.000000</td>\n",
       "      <td>108.419746</td>\n",
       "      <td>266589700</td>\n",
       "    </tr>\n",
       "    <tr>\n",
       "      <td>2014-12-08</td>\n",
       "      <td>114.099998</td>\n",
       "      <td>114.849998</td>\n",
       "      <td>109.349998</td>\n",
       "      <td>109.730003</td>\n",
       "      <td>103.451294</td>\n",
       "      <td>259868000</td>\n",
       "    </tr>\n",
       "    <tr>\n",
       "      <td>2014-12-15</td>\n",
       "      <td>110.699997</td>\n",
       "      <td>113.239998</td>\n",
       "      <td>106.260002</td>\n",
       "      <td>111.779999</td>\n",
       "      <td>105.383980</td>\n",
       "      <td>328856600</td>\n",
       "    </tr>\n",
       "    <tr>\n",
       "      <td>2014-12-22</td>\n",
       "      <td>112.160004</td>\n",
       "      <td>114.519997</td>\n",
       "      <td>111.970001</td>\n",
       "      <td>113.989998</td>\n",
       "      <td>107.467529</td>\n",
       "      <td>119396500</td>\n",
       "    </tr>\n",
       "    <tr>\n",
       "      <td>2014-12-29</td>\n",
       "      <td>113.790001</td>\n",
       "      <td>114.769997</td>\n",
       "      <td>107.349998</td>\n",
       "      <td>109.330002</td>\n",
       "      <td>103.074181</td>\n",
       "      <td>152088400</td>\n",
       "    </tr>\n",
       "  </tbody>\n",
       "</table>\n",
       "</div>"
      ],
      "text/plain": [
       "                  Open        High         Low       Close   Adj Close  \\\n",
       "Date                                                                     \n",
       "2014-12-01  118.809998  119.250000  111.269997  115.000000  108.419746   \n",
       "2014-12-08  114.099998  114.849998  109.349998  109.730003  103.451294   \n",
       "2014-12-15  110.699997  113.239998  106.260002  111.779999  105.383980   \n",
       "2014-12-22  112.160004  114.519997  111.970001  113.989998  107.467529   \n",
       "2014-12-29  113.790001  114.769997  107.349998  109.330002  103.074181   \n",
       "\n",
       "               Volume  \n",
       "Date                   \n",
       "2014-12-01  266589700  \n",
       "2014-12-08  259868000  \n",
       "2014-12-15  328856600  \n",
       "2014-12-22  119396500  \n",
       "2014-12-29  152088400  "
      ]
     },
     "execution_count": 16,
     "metadata": {},
     "output_type": "execute_result"
    }
   ],
   "source": [
    "df['2014-12']"
   ]
  },
  {
   "cell_type": "code",
   "execution_count": 19,
   "metadata": {},
   "outputs": [
    {
     "data": {
      "text/plain": [
       "<matplotlib.axes._subplots.AxesSubplot at 0xff4c2c8>"
      ]
     },
     "execution_count": 19,
     "metadata": {},
     "output_type": "execute_result"
    },
    {
     "data": {
      "image/png": "[encoded data removed]",
      "text/plain": [
       "<Figure size 432x288 with 1 Axes>"
      ]
     },
     "metadata": {
      "needs_background": "light"
     },
     "output_type": "display_data"
    }
   ],
   "source": [
    "%matplotlib inline\n",
    "df['Close'].plot()\n"
   ]
  },
  {
   "cell_type": "code",
   "execution_count": 23,
   "metadata": {},
   "outputs": [
    {
     "data": {
      "text/plain": [
       "<matplotlib.axes._subplots.AxesSubplot at 0xf644488>"
      ]
     },
     "execution_count": 23,
     "metadata": {},
     "output_type": "execute_result"
    },
    {
     "data": {
      "image/png": "[encoded data removed]",
      "text/plain": [
       "<Figure size 432x288 with 1 Axes>"
      ]
     },
     "metadata": {
      "needs_background": "light"
     },
     "output_type": "display_data"
    }
   ],
   "source": [
    "%matplotlib inline\n",
    "df['Close'].resample('Q').mean().plot()\n"
   ]
  },
  {
   "cell_type": "code",
   "execution_count": 27,
   "metadata": {},
   "outputs": [
    {
     "data": {
      "text/plain": [
       "<matplotlib.axes._subplots.AxesSubplot at 0x10e4dc88>"
      ]
     },
     "execution_count": 27,
     "metadata": {},
     "output_type": "execute_result"
    },
    {
     "data": {
      "image/png": "[encoded data removed]",
      "text/plain": [
       "<Figure size 432x288 with 1 Axes>"
      ]
     },
     "metadata": {
      "needs_background": "light"
     },
     "output_type": "display_data"
    }
   ],
   "source": [
    "df['Close'].resample('Y').mean().plot(kind='bar')"
   ]
  },
  {
   "cell_type": "code",
   "execution_count": 29,
   "metadata": {},
   "outputs": [
    {
     "data": {
      "text/plain": [
       "<matplotlib.axes._subplots.AxesSubplot at 0x10e65a48>"
      ]
     },
     "execution_count": 29,
     "metadata": {},
     "output_type": "execute_result"
    },
    {
     "data": {
      "image/png": "[encoded data removed]",
      "text/plain": [
       "<Figure size 432x288 with 1 Axes>"
      ]
     },
     "metadata": {
      "needs_background": "light"
     },
     "output_type": "display_data"
    }
   ],
   "source": [
    "df['Close'].plot()\n"
   ]
  },
  {
   "cell_type": "code",
   "execution_count": null,
   "metadata": {},
   "outputs": [],
   "source": []
  }
 ],
 "metadata": {
  "kernelspec": {
   "display_name": "Python 3",
   "language": "python",
   "name": "python3"
  },
  "language_info": {
   "codemirror_mode": {
    "name": "ipython",
    "version": 3
   },
   "file_extension": ".py",
   "mimetype": "text/x-python",
   "name": "python",
   "nbconvert_exporter": "python",
   "pygments_lexer": "ipython3",
   "version": "3.7.4"
  }
 },
 "nbformat": 4,
 "nbformat_minor": 2
}
